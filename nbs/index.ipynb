{
 "cells": [
  {
   "cell_type": "markdown",
   "metadata": {},
   "source": [
    "[![PyPI](https://img.shields.io/pypi/v/easyrelease?color=yellow&label=pypi%20version)](https://pypi.org/project/easyrelease/#description)\n",
    "[![conda](https://anaconda.org/pablormira/easyrelease/badges/version.svg)](https://anaconda.org/pablormira/easyrelease)\n",
    "[![plattform](https://anaconda.org/pablormira/easyrelease/badges/platforms.svg)](https://anaconda.org/pablormira/easyrelease)"
   ]
  },
  {
   "cell_type": "markdown",
   "metadata": {},
   "source": [
    "# easyrelease\n",
    "\n",
    "> Automate your GitHub, pypi and conda releases"
   ]
  },
  {
   "cell_type": "markdown",
   "metadata": {},
   "source": [
    "## How to install"
   ]
  },
  {
   "cell_type": "markdown",
   "metadata": {},
   "source": [
    "Via pip\n",
    "\n",
    "`pip install easyrelease`\n",
    "\n",
    "or via conda\n",
    "\n",
    "`conda install easyrelease`"
   ]
  },
  {
   "cell_type": "markdown",
   "metadata": {},
   "source": [
    "## Packages vs Application\n",
    "\n",
    "We conceptually differentiate between two kind of projects:\n",
    "\n",
    "* Packages: These are python projects you want to bundle for others to install via `pip` or `conda`\n",
    "* Applications: These are python projects without packaging purposes like a web application. You can still use this package for this kind of projects in order to automate your release workflow"
   ]
  },
  {
   "cell_type": "markdown",
   "metadata": {},
   "source": [
    "## How to use"
   ]
  },
  {
   "cell_type": "markdown",
   "metadata": {},
   "source": [
    "### Prerequisites\n",
    "\n",
    "After installation you need the fulfill the following prerequisites for the package to work:\n",
    "\n",
    "#### Git project\n",
    "\n",
    "You need to initialize a git project in your project root folder for this package to work, i.e. run in your command line\n",
    "\n",
    "`git init`\n",
    "\n",
    "#### GitHub credentials\n",
    "\n",
    "You need to store your GitHub credentials (GitHub username and token) in your project root for automatic GitHub releases. The credentials should be stored in a file called `.gh-credentials` with the following contents:\n",
    "\n",
    "```ini\n",
    "gh_user = Your GitHub username\n",
    "gh_token = Your GitHub token\n",
    "```\n",
    "\n",
    "#### Package structure\n",
    "\n",
    "> Only for python packages\n",
    "\n",
    "For this package to work you need to comply to the following minimal project structure for python packages\n",
    "\n",
    "```\n",
    "package_name\n",
    "|-- .git\n",
    "|-- package_name\n",
    "|   |-- __init__.py\n",
    "|   |-- module1.py\n",
    "|   |-- module2.py\n",
    "|   |-- ...\n",
    "|-- tests\n",
    "|   |-- test_module1.py\n",
    "|   |-- test_module2.py\n",
    "|   |-- ...\n",
    "```\n",
    "\n",
    "#### Pypi credentials\n",
    "\n",
    "> Only for python packages\n",
    "\n",
    "To publish to Pypi you need to store your pypi credentials in a file with the name `.pypi-credentials` in your user root or project root directory. The file should include the following contents\n",
    "\n",
    "```ini\n",
    "username = Your Pypi username\n",
    "password = Your Pypi password\n",
    "```\n",
    "\n",
    "#### Anaconda credentials\n",
    "\n",
    "> Only for python packages\n",
    "\n",
    "To publish to Anaconda you need to store your anaconda credentials in a file with the name `.anaconda-credentials` in your user root or project root directory. The file should include the following contents\n",
    "\n",
    "```ini\n",
    "username = Your Anaconda username\n",
    "password = Your Anaconda password\n",
    "```\n",
    "\n",
    "#### CONDA_BLD_PATH\n",
    "\n",
    "> Only for Linux users and only in case of problems\n",
    "\n",
    "In case of problems concerning permission errors building your package via `build-conda-package` you may need to add the following line to your `~/.bashrc`\n",
    "\n",
    "```bash\n",
    "export CONDA_BLD_PATH=/tmp/conda-bld\n",
    "```\n"
   ]
  },
  {
   "cell_type": "markdown",
   "metadata": {},
   "source": [
    "### Getting started\n",
    "\n",
    "#### For applications\n",
    "\n",
    "Only once:\n",
    "\n",
    "0. Fulfill the [prerequisites](#prerequisites)\n",
    "1. Run `easyrelease-init application`\n",
    "2. Edit your in the previous step generated file `settings.ini`\n",
    "3. Edit your in the previous step generated file `.gh-release-config.yaml`\n",
    "\n",
    "`.gh-release-config.yaml` sets the title and keyword that will be used to assign your commits to a certain section in your GitHub release notes and changelog. So if for example you want all commits to be in your release notes without keyword matching, you could modify `.gh-release-config.yaml` as\n",
    "\n",
    "```yaml\n",
    "gh_categories:\n",
    "  - title: \"### Commits:\"\n",
    "    keyword: \"\"\n",
    "```\n",
    "\n",
    "\n",
    "Each time you want to make a GitHub release:\n",
    "\n",
    "1. Run `gh-release` to make a GitHub release\n",
    "2. Run `make-changelog` to generate / update your CHANGELOG\n",
    "\n",
    "#### For packages\n",
    "\n",
    "Only once:\n",
    "\n",
    "0. Fulfill the [prerequisites](#prerequisites)\n",
    "1. Run `easyrelease-init application`\n",
    "2. Edit your in the previous step generated file `settings.ini`\n",
    "3. Edit your in the previous step generated file `.gh-release-config.yaml`\n",
    "4. Run `login-to-anaconda`\n",
    "\n",
    "Each time you want to release / publish your package:\n",
    "\n",
    "1. Run `gh-release` to make a GitHub release\n",
    "2. Run `make-changelog` to generate / update your CHANGELOG\n",
    "3. Run `publish-pypi-package` to publish to pypi\n",
    "4. Run `update-meta-yaml` to generate / update your meta.yaml under conda-bld\n",
    "  * (Optionally recommended): Check your meta.yaml\n",
    "5. Run `build-conda-package` to build your conda package\n",
    "7. Run `upload-conda-package` to publish your conda package"
   ]
  },
  {
   "cell_type": "markdown",
   "metadata": {},
   "source": [
    "## Versioning\n",
    "\n",
    "We version our package via [semantic versioning](https://semver.org), i.e., \n",
    "\n",
    "* We use three digits separated by points x1.x2.x3, e.g. 0.5.1\n",
    "* We increase x1 (the major version) if we introduce breaking changes\n",
    "  * Exception: Versions with 0 at the beginning (e.g. 0.5.1) mean that the package is not stable yet and therefore every new feature could be a breaking change\n",
    "* We increase x2 (the minor version) if we introduce a new feature\n",
    "* We increase x3 (the patch version) if we fix a bug\n",
    "\n",
    "New documentation, refactoring / maintenance of code and admin tasks do not change the versions.\n",
    "\n",
    "You can follow the changes introduced by each version in our [CHANGELOG](https://github.com/PabloRMira/easyrelease/blob/main/CHANGELOG.md)"
   ]
  },
  {
   "cell_type": "markdown",
   "metadata": {},
   "source": [
    "## Differences to [fastrelease](https://github.com/fastai/fastrelease)\n",
    "\n",
    "This package was inspired by the [fastrelease](https://github.com/fastai/fastrelease) package but it differs from it in the way it generates the release notes. \n",
    "\n",
    "`easyrelease` generates the release notes out of the commit messages whereas `fastrelease` generates the release notes out of GitHub issues.\n",
    "\n",
    "This package was also motivated by the fact that `fastrelease` did not work for me out of the box in my first attempt and I really liked the idea of automating releases and package publishing."
   ]
  }
 ],
 "metadata": {
  "kernelspec": {
   "display_name": "Python 3",
   "language": "python",
   "name": "python3"
  }
 },
 "nbformat": 4,
 "nbformat_minor": 2
}

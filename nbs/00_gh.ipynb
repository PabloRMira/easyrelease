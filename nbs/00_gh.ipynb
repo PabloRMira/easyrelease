{
 "cells": [
  {
   "cell_type": "code",
   "execution_count": null,
   "metadata": {},
   "outputs": [],
   "source": [
    "# default_exp gh"
   ]
  },
  {
   "cell_type": "markdown",
   "metadata": {},
   "source": [
    "# gh\n",
    "\n",
    "> Tools for GitHub releases"
   ]
  },
  {
   "cell_type": "code",
   "execution_count": null,
   "metadata": {},
   "outputs": [],
   "source": [
    "#hide\n",
    "from nbdev.showdoc import *"
   ]
  },
  {
   "cell_type": "code",
   "execution_count": null,
   "metadata": {},
   "outputs": [],
   "source": [
    "#export\n",
    "import os\n",
    "import re\n",
    "import yaml\n",
    "import pkgutil\n",
    "import subprocess\n",
    "from configparser import ConfigParser"
   ]
  },
  {
   "cell_type": "code",
   "execution_count": null,
   "metadata": {},
   "outputs": [],
   "source": [
    "#export\n",
    "def write_gh_template():\n",
    "    \"Write GitHub template for assigning commit messages to categories\"\n",
    "    template = pkgutil.get_data(__name__, \"templates/gh_release.yaml\").decode(\"utf-8\")\n",
    "    with open(\".gh-release-config.yaml\", \"w\") as f:\n",
    "        f.write(template)"
   ]
  },
  {
   "cell_type": "code",
   "execution_count": null,
   "metadata": {},
   "outputs": [],
   "source": [
    "#export\n",
    "def get_last_tag():\n",
    "    \"Get latest git tag\"\n",
    "    return subprocess.run([\"git\", \"describe\", \"--tags\", \"--abbrev=0\"], \n",
    "                          capture_output=True).stdout.decode(\"utf\").strip()"
   ]
  },
  {
   "cell_type": "code",
   "execution_count": null,
   "metadata": {},
   "outputs": [],
   "source": [
    "#export\n",
    "def get_commit_msgs(from_tag=None, to=\"HEAD\"):\n",
    "    \"Get commits `from_tag` to `to`. If `from_tag` is None then it will get the commits from latest tag\"\n",
    "    last_tag = from_tag if from_tag is not None else get_last_tag()\n",
    "    commit_msgs = subprocess.run([\"git\", \"log\", f\"{last_tag}..{to}\", \"--pretty=%s\"],\n",
    "                          capture_output=True).stdout.decode(\"utf\").strip()\n",
    "    return commit_msgs.split(\"\\n\")"
   ]
  },
  {
   "cell_type": "code",
   "execution_count": null,
   "metadata": {},
   "outputs": [],
   "source": [
    "#export\n",
    "def get_config():\n",
    "    \"Get config from settings.ini\"\n",
    "    config = ConfigParser(delimiters=['='])\n",
    "    config.read('settings.ini')\n",
    "    cfg = config['DEFAULT']\n",
    "    return cfg"
   ]
  },
  {
   "cell_type": "code",
   "execution_count": null,
   "metadata": {},
   "outputs": [],
   "source": [
    "#export\n",
    "def get_release_version():\n",
    "    \"Get release version from settings.ini\"\n",
    "    cfg = get_config()\n",
    "    return cfg[\"version\"]"
   ]
  },
  {
   "cell_type": "code",
   "execution_count": null,
   "metadata": {},
   "outputs": [],
   "source": [
    "#export\n",
    "def add_pull_request_link(msg):\n",
    "    \"Add pull request link to commit message `s` if reference is found, e.g. #100\"\n",
    "    cfg = get_config()\n",
    "    git_url = cfg[\"git_url\"]\n",
    "    msg_with_link = re.sub(\"(#)(\\d+)\", rf\"[\\1\\2]({git_url}/pull/\\2)\", msg)\n",
    "    return msg_with_link"
   ]
  },
  {
   "cell_type": "code",
   "execution_count": null,
   "metadata": {},
   "outputs": [],
   "source": [
    "#export\n",
    "def release_report(report_title=\"\", from_tag=None, to=\"HEAD\"):\n",
    "    \"Release report `from_tag` to commit `to` using `report_title`\"\n",
    "    commit_msgs = get_commit_msgs(from_tag, to)\n",
    "    with open(\".gh-release-config.yaml\") as f:\n",
    "        gh_config = yaml.safe_load(f)\n",
    "    gh_categories = gh_config[\"gh_categories\"]\n",
    "    report_list = [report_title]\n",
    "    for d in gh_categories:\n",
    "        gh_cat_commits = [add_pull_request_link(f\"* {msg}\") for msg in commit_msgs if d[\"keyword\"] in msg]\n",
    "        gh_cat_report = f\"{d['title']}\\n\" + \"{}\".format(\"\\n\".join(gh_cat_commits)) if len(gh_cat_commits) > 0 else \"\"\n",
    "        report_list.append(gh_cat_report)\n",
    "    report_list = [rep for rep in report_list if rep != \"\"]\n",
    "    report = \"\\n\\n\".join(report_list)\n",
    "    return report"
   ]
  },
  {
   "cell_type": "code",
   "execution_count": null,
   "metadata": {},
   "outputs": [],
   "source": [
    "#export\n",
    "def get_token():\n",
    "    \"Get GitHub token from file .gh_token\"\n",
    "    with open(\".gh-token\", \"r\") as f:\n",
    "        token = f.read().strip()\n",
    "    return token"
   ]
  },
  {
   "cell_type": "code",
   "execution_count": null,
   "metadata": {},
   "outputs": [],
   "source": [
    "#export\n",
    "def make_gh_release():\n",
    "    \"Make a GitHub release\"\n",
    "    # get config\n",
    "    cfg = get_config()\n",
    "    # get token\n",
    "    token = get_token()\n",
    "    # get release version\n",
    "    release_version = cfg[\"version\"]\n",
    "    # get release report\n",
    "    report = release_report()\n",
    "    # publish release to GitHub\n",
    "    # TODO\n",
    "    # download new tag from GitHub\n",
    "    subprocess.run([\"git\", \"fetch\"])"
   ]
  },
  {
   "cell_type": "code",
   "execution_count": null,
   "metadata": {},
   "outputs": [
    {
     "name": "stdout",
     "output_type": "stream",
     "text": [
      "Converted 00_gh.ipynb.\n",
      "Converted index.ipynb.\n"
     ]
    }
   ],
   "source": [
    "#hide\n",
    "from nbdev.export import notebook2script\n",
    "notebook2script()"
   ]
  }
 ],
 "metadata": {
  "kernelspec": {
   "display_name": "Python 3",
   "language": "python",
   "name": "python3"
  }
 },
 "nbformat": 4,
 "nbformat_minor": 2
}

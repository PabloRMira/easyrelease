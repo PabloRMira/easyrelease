{
 "cells": [
  {
   "cell_type": "code",
   "execution_count": null,
   "metadata": {},
   "outputs": [],
   "source": [
    "# default_exp gh"
   ]
  },
  {
   "cell_type": "markdown",
   "metadata": {},
   "source": [
    "# gh\n",
    "\n",
    "> Tools for GitHub releases"
   ]
  },
  {
   "cell_type": "code",
   "execution_count": null,
   "metadata": {},
   "outputs": [],
   "source": [
    "#hide\n",
    "from nbdev.showdoc import *"
   ]
  },
  {
   "cell_type": "code",
   "execution_count": null,
   "metadata": {},
   "outputs": [],
   "source": [
    "#export\n",
    "import os\n",
    "import re\n",
    "import yaml\n",
    "import subprocess\n",
    "import requests\n",
    "from requests.auth import HTTPBasicAuth\n",
    "import json\n",
    "from urllib.parse import urlparse\n",
    "from easyrelease.utils import (\n",
    "    get_config, \n",
    "    read_credentials, \n",
    "    check_project_root, \n",
    "    get_template, \n",
    "    check_git_dir,\n",
    ")"
   ]
  },
  {
   "cell_type": "code",
   "execution_count": null,
   "metadata": {},
   "outputs": [],
   "source": [
    "#export\n",
    "def get_repo_name(git_url):\n",
    "    \"Get repo name out of `git_url`\"\n",
    "    url_path = urlparse(git_url).path\n",
    "    path_comp = url_path.split(\"/\")\n",
    "    path_comp = [c for c in path_comp if c != \"\"]\n",
    "    repo_name = \"/\".join(path_comp[0:2])\n",
    "    return repo_name"
   ]
  },
  {
   "cell_type": "code",
   "execution_count": null,
   "metadata": {},
   "outputs": [],
   "source": [
    "assert get_repo_name(\"https://github.com/PabloRMira/easyrelease\") == \"PabloRMira/easyrelease\""
   ]
  },
  {
   "cell_type": "code",
   "execution_count": null,
   "metadata": {},
   "outputs": [],
   "source": [
    "assert get_repo_name(\"https://github.com/PabloRMira/easyrelease/tree/main\") == \"PabloRMira/easyrelease\""
   ]
  },
  {
   "cell_type": "code",
   "execution_count": null,
   "metadata": {},
   "outputs": [],
   "source": [
    "assert get_repo_name(\"https://github.enterprise.com/PabloRMira/easyrelease/tree/main\") == \"PabloRMira/easyrelease\""
   ]
  },
  {
   "cell_type": "code",
   "execution_count": null,
   "metadata": {},
   "outputs": [],
   "source": [
    "#export\n",
    "def get_base_repo_url(git_url):\n",
    "    \"Get base repo URL from `git_url`\"\n",
    "    repo_name = get_repo_name(git_url)\n",
    "    url_comp = urlparse(git_url)\n",
    "    scheme = url_comp.scheme\n",
    "    netloc = url_comp.netloc\n",
    "    return f\"{scheme}://{netloc}/{repo_name}\""
   ]
  },
  {
   "cell_type": "code",
   "execution_count": null,
   "metadata": {},
   "outputs": [],
   "source": [
    "assert get_base_repo_url(\"https://github.com/PabloRMira/easyrelease\") == \"https://github.com/PabloRMira/easyrelease\""
   ]
  },
  {
   "cell_type": "code",
   "execution_count": null,
   "metadata": {},
   "outputs": [],
   "source": [
    "assert (\n",
    "    get_base_repo_url(\n",
    "        \"https://github.com/PabloRMira/easyrelease/tree/main\"\n",
    "    ) == \"https://github.com/PabloRMira/easyrelease\"\n",
    ")"
   ]
  },
  {
   "cell_type": "code",
   "execution_count": null,
   "metadata": {},
   "outputs": [],
   "source": [
    "#export\n",
    "@check_project_root\n",
    "def write_gh_template():\n",
    "    \"Write GitHub template for assigning commit messages to categories\"\n",
    "    print(\"Generating .gh-release-config.yaml\")\n",
    "    if os.path.exists(\".gh-release-config.yaml\"):\n",
    "        print(\".gh-release-config.yaml already exists. Skipping this step\")\n",
    "    else:\n",
    "        template = get_template(\"gh-release-config-template.yaml\")\n",
    "        template = \"\\n\".join(template.split())  # remove redundant whitespaces\n",
    "        with open(\".gh-release-config.yaml\", \"w\") as f:\n",
    "            f.write(template)"
   ]
  },
  {
   "cell_type": "code",
   "execution_count": null,
   "metadata": {},
   "outputs": [],
   "source": [
    "#export\n",
    "@check_project_root\n",
    "def get_last_tag():\n",
    "    \"Get last git tag. If there is no tag, then it outputs the first commit hash\"\n",
    "    last_tag = subprocess.run([\"git\", \"describe\", \"--tags\", \"--abbrev=0\"],\n",
    "                          capture_output=True).stdout.decode(\"utf\").strip()\n",
    "    if last_tag != \"\":\n",
    "        return last_tag\n",
    "    else:\n",
    "        cfg = get_config()\n",
    "        main_branch = cfg[\"branch\"]\n",
    "        commits_list = (\n",
    "            subprocess.run([\"git\", \"rev-list\", main_branch], capture_output=True)\n",
    "            .stdout.decode(\"utf\").strip().split(\"\\n\")\n",
    "        )\n",
    "        first_commit = commits_list[-1]\n",
    "        return first_commit"
   ]
  },
  {
   "cell_type": "code",
   "execution_count": null,
   "metadata": {},
   "outputs": [],
   "source": [
    "#export\n",
    "def get_commit_msgs(from_tag=None, to=\"HEAD\"):\n",
    "    \"Get commits `from_tag` to `to`. If `from_tag` is None then it will get the commits from latest tag\"\n",
    "    last_tag = from_tag if from_tag is not None else get_last_tag()\n",
    "    commit_msgs = subprocess.run([\"git\", \"log\", f\"{last_tag}..{to}\", \"--pretty=%s\"],\n",
    "                          capture_output=True).stdout.decode(\"utf\").strip().split(\"\\n\")\n",
    "    return commit_msgs"
   ]
  },
  {
   "cell_type": "code",
   "execution_count": null,
   "metadata": {},
   "outputs": [],
   "source": [
    "#export\n",
    "@check_project_root\n",
    "def add_pull_request_link(msg):\n",
    "    \"Add pull request link to commit message `s` if reference is found, e.g. #100\"\n",
    "    cfg = get_config()\n",
    "    git_url = cfg[\"git_url\"]\n",
    "    base_repo_url = get_base_repo_url(git_url)\n",
    "    msg_with_link = re.sub(\"(#)(\\d+)\", rf\"[\\1\\2]({base_repo_url}/pull/\\2)\", msg)\n",
    "    return msg_with_link"
   ]
  },
  {
   "cell_type": "code",
   "execution_count": null,
   "metadata": {},
   "outputs": [],
   "source": [
    "if not check_git_dir():\n",
    "    os.chdir(\"..\")  # we need this if we test locally in the notebook itself\n",
    "msg = \"* [FIX] Some bug (#100)\"\n",
    "msg_link = add_pull_request_link(msg)\n",
    "expected_msg_link = \"* [FIX] Some bug ([#100](https://github.com/PabloRMira/easyrelease/pull/100))\"\n",
    "assert msg_link == expected_msg_link"
   ]
  },
  {
   "cell_type": "code",
   "execution_count": null,
   "metadata": {},
   "outputs": [],
   "source": [
    "#export\n",
    "@check_project_root\n",
    "def release_report(gh_config, commit_msgs, report_title=\"\"):\n",
    "    \"Get release report using `report_title`, commit messages `commit_msgs` and GitHub config `gh_config`\"\n",
    "    gh_categories = gh_config[\"gh_categories\"]\n",
    "    report_list = [report_title]\n",
    "    for d in gh_categories:\n",
    "        gh_cat_commits = [add_pull_request_link(f\"* {msg}\") for msg in commit_msgs if d[\"keyword\"] in msg]\n",
    "        gh_cat_report = f\"{d['title']}\\n\" + \"{}\".format(\"\\n\".join(gh_cat_commits)) if len(gh_cat_commits) > 0 else \"\"\n",
    "        report_list.append(gh_cat_report)\n",
    "    report_list = [rep for rep in report_list if rep != \"\"]\n",
    "    report = \"\\n\\n\".join(report_list)\n",
    "    return report"
   ]
  },
  {
   "cell_type": "code",
   "execution_count": null,
   "metadata": {},
   "outputs": [],
   "source": [
    "if not check_git_dir:\n",
    "    os.chdir(\"..\")  # we need this if we test locally in the notebook itself\n",
    "commit_msgs = [\n",
    "    \"[FIX] Some bug\",\n",
    "    \"[FEA] My new feature\"\n",
    "]\n",
    "gh_config = {\"gh_categories\": \n",
    "             [{\"title\": \"Bugfixes:\", \"keyword\": \"[FIX]\"},\n",
    "              {\"title\": \"New features:\", \"keyword\": \"[FEA]\"}]}\n",
    "report = release_report(gh_config, commit_msgs, \"Nice title!\")\n",
    "expected_report = \"Nice title!\\n\\nBugfixes:\\n* [FIX] Some bug\\n\\nNew features:\\n* [FEA] New features\""
   ]
  },
  {
   "cell_type": "code",
   "execution_count": null,
   "metadata": {},
   "outputs": [],
   "source": [
    "#export\n",
    "@check_project_root\n",
    "def get_gh_credentials():\n",
    "    \"Get GitHub credentials from file .gh-credentials\"\n",
    "    cfg = read_credentials(\".gh-credentials\")\n",
    "    return (cfg[\"gh_user\"], cfg[\"gh_token\"])"
   ]
  },
  {
   "cell_type": "code",
   "execution_count": null,
   "metadata": {},
   "outputs": [],
   "source": [
    "#export\n",
    "def get_tags():\n",
    "    \"Get git tags as list\"\n",
    "    return (\n",
    "        subprocess.run([\"git\", \"tag\", \"-l\"], capture_output=True)\n",
    "        .stdout.decode(\"utf\")\n",
    "        .strip()\n",
    "        .split(\"\\n\")\n",
    "    )"
   ]
  },
  {
   "cell_type": "code",
   "execution_count": null,
   "metadata": {},
   "outputs": [],
   "source": [
    "#export\n",
    "@check_project_root\n",
    "def get_gh_config():\n",
    "    \"Get GitHub config\"\n",
    "    with open(\".gh-release-config.yaml\") as f:\n",
    "        gh_config = yaml.safe_load(f)\n",
    "    return gh_config"
   ]
  },
  {
   "cell_type": "code",
   "execution_count": null,
   "metadata": {},
   "outputs": [],
   "source": [
    "#export\n",
    "def make_gh_release(draft=False, prerelease=False):\n",
    "    \"Make a GitHub release. Indicate if there is a `draft` or a `prerelease` with default False both\"\n",
    "    cfg = get_config()  # package config\n",
    "    gh_user, gh_token = get_gh_credentials()\n",
    "    release_version = cfg[\"version\"]\n",
    "    user = cfg[\"user\"]\n",
    "    lib_name = cfg[\"lib_name\"]\n",
    "    repo_name = get_repo_name(cfg[\"git_url\"])\n",
    "    target_branch = cfg[\"branch\"]\n",
    "    commit_msgs = get_commit_msgs()\n",
    "    gh_config = get_gh_config()\n",
    "    report = release_report(commit_msgs=commit_msgs, gh_config=gh_config)\n",
    "    # generate data for release\n",
    "    gh_data = {\n",
    "        \"tag_name\": release_version,\n",
    "        \"target_commitish\": target_branch,\n",
    "        \"name\": f\"Release version {release_version}\",\n",
    "        \"body\": report,\n",
    "        \"draft\": draft,\n",
    "        \"prerelease\": prerelease\n",
    "    }\n",
    "    gh_api_url = f\"https://api.github.com/repos/{repo_name}/releases\"\n",
    "    draft_msg = \" draft\" if draft else \"\"\n",
    "    prerelease_msg = \"pre-\" if prerelease else \"\"\n",
    "    print(f\"Creating GitHub {prerelease_msg}release{draft_msg}\")\n",
    "    r = requests.post(\n",
    "        url=gh_api_url, data=json.dumps(gh_data), auth=HTTPBasicAuth(gh_user, gh_token)\n",
    "    )\n",
    "    print(f\"Status code: {r.status_code}\")\n",
    "    print(r.text)\n",
    "    # download new tag from GitHub\n",
    "    subprocess.run([\"git\", \"fetch\"])"
   ]
  },
  {
   "cell_type": "code",
   "execution_count": null,
   "metadata": {},
   "outputs": [],
   "source": [
    "#export\n",
    "@check_project_root\n",
    "def make_changelog():\n",
    "    \"Generate CHANGELOG.md file with release notes\"\n",
    "    gh_config = get_gh_config()    \n",
    "    tags = get_tags()\n",
    "    changelog_title = \"# Release notes\"\n",
    "    reports = []\n",
    "    for from_tag, to in zip(tags[:-1], tags[1:]):\n",
    "        commit_msgs = get_commit_msgs(from_tag=from_tag, to=to)\n",
    "        reports.append(release_report(report_title=f\"## {to}\", commit_msgs=commit_msgs, gh_config=gh_config))\n",
    "    changelog = changelog_title + \"\\n\\n\" + \"\\n\\n\".join(reports[::-1])\n",
    "    with open(\"CHANGELOG.md\", \"w\") as f:\n",
    "        f.write(changelog)"
   ]
  },
  {
   "cell_type": "code",
   "execution_count": null,
   "metadata": {},
   "outputs": [
    {
     "name": "stdout",
     "output_type": "stream",
     "text": [
      "Converted 00_gh.ipynb.\n",
      "Converted 02_conda.ipynb.\n",
      "Converted 03_cli.ipynb.\n",
      "Converted 04_utils.ipynb.\n",
      "Converted index.ipynb.\n"
     ]
    }
   ],
   "source": [
    "#hide\n",
    "from nbdev.export import notebook2script\n",
    "notebook2script()"
   ]
  }
 ],
 "metadata": {
  "kernelspec": {
   "display_name": "Python 3",
   "language": "python",
   "name": "python3"
  }
 },
 "nbformat": 4,
 "nbformat_minor": 2
}

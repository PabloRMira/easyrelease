{
 "cells": [
  {
   "cell_type": "code",
   "execution_count": null,
   "metadata": {},
   "outputs": [],
   "source": [
    "# default_exp cli"
   ]
  },
  {
   "cell_type": "markdown",
   "metadata": {},
   "source": [
    "# cli\n",
    "\n",
    "> Command Line Interfaces (CLI)"
   ]
  },
  {
   "cell_type": "code",
   "execution_count": null,
   "metadata": {},
   "outputs": [],
   "source": [
    "#hide\n",
    "from nbdev.showdoc import *"
   ]
  },
  {
   "cell_type": "code",
   "execution_count": null,
   "metadata": {},
   "outputs": [],
   "source": [
    "#export\n",
    "from fastcore.script import call_parse, Param\n",
    "from easyrelease.utils import (\n",
    "    check_project_root, \n",
    "    write_settings_ini, \n",
    "    write_setup_py, \n",
    "    write_conda_build_scripts,\n",
    "    update_gitignore\n",
    ")\n",
    "from easyrelease.gh import write_gh_template"
   ]
  },
  {
   "cell_type": "code",
   "execution_count": null,
   "metadata": {},
   "outputs": [],
   "source": [
    "#export\n",
    "@call_parse\n",
    "def init_configs(project_type: Param(help=\"Either application or package\")):\n",
    "    \"Write initial configs to project root directory\"\n",
    "    # validate input\n",
    "    if project_type not in (\"application\", \"package\"):\n",
    "        raise Exception(f\"Input project_type {project_type} is not valid\")\n",
    "    write_gh_template()\n",
    "    write_settings_ini(project_type)\n",
    "    update_gitignore()\n",
    "    if project_type == \"package\":\n",
    "        write_setup_py()\n",
    "        write_conda_build_scripts()"
   ]
  },
  {
   "cell_type": "code",
   "execution_count": null,
   "metadata": {},
   "outputs": [
    {
     "name": "stdout",
     "output_type": "stream",
     "text": [
      "Converted 00_gh.ipynb.\n",
      "Converted 04_utils.ipynb.\n",
      "Converted index.ipynb.\n"
     ]
    }
   ],
   "source": [
    "#hide\n",
    "from nbdev.export import notebook2script\n",
    "notebook2script()"
   ]
  }
 ],
 "metadata": {
  "kernelspec": {
   "display_name": "Python 3",
   "language": "python",
   "name": "python3"
  }
 },
 "nbformat": 4,
 "nbformat_minor": 2
}

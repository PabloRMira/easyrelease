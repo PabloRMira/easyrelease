{
 "cells": [
  {
   "cell_type": "code",
   "execution_count": null,
   "metadata": {},
   "outputs": [],
   "source": [
    "# default_exp cli"
   ]
  },
  {
   "cell_type": "markdown",
   "metadata": {},
   "source": [
    "# cli\n",
    "\n",
    "> Command Line Interfaces (CLI)"
   ]
  },
  {
   "cell_type": "code",
   "execution_count": null,
   "metadata": {},
   "outputs": [],
   "source": [
    "#hide\n",
    "from nbdev.showdoc import *"
   ]
  },
  {
   "cell_type": "code",
   "execution_count": null,
   "metadata": {},
   "outputs": [],
   "source": [
    "#export\n",
    "import argparse\n",
    "from easyrelease.utils import (\n",
    "    check_project_root, \n",
    "    write_settings_ini, \n",
    "    write_setup_py, \n",
    "    write_conda_build_scripts,\n",
    "    update_gitignore,\n",
    "    run_tests\n",
    ")\n",
    "from easyrelease.gh import write_gh_template, make_gh_release"
   ]
  },
  {
   "cell_type": "code",
   "execution_count": null,
   "metadata": {},
   "outputs": [],
   "source": [
    "#export\n",
    "def init_configs():\n",
    "    \"Write initial configs to project root directory\"\n",
    "    parser = argparse.ArgumentParser(description=\"Initialize project\")\n",
    "    parser.add_argument(\n",
    "        \"project_type\",\n",
    "        help=\"Either application or package\"\n",
    "    )\n",
    "    project_type = parser.parse_args().project_type\n",
    "    # validate input\n",
    "    if project_type not in (\"application\", \"package\"):\n",
    "        raise Exception(f\"Input project_type {project_type} is not valid\")\n",
    "    write_gh_template()\n",
    "    write_settings_ini(project_type)\n",
    "    update_gitignore()\n",
    "    if project_type == \"package\":\n",
    "        write_setup_py()\n",
    "        write_conda_build_scripts()"
   ]
  },
  {
   "cell_type": "code",
   "execution_count": null,
   "metadata": {},
   "outputs": [],
   "source": [
    "#export\n",
    "@run_tests\n",
    "def make_gh_release_cli():\n",
    "    \"CLI for making GitHub releases\"\n",
    "    parser = argparse.ArgumentParser(description=\"Make a GitHub release\")\n",
    "    parser.add_argument(\n",
    "        \"-d\",\n",
    "        \"--draft\",\n",
    "        action=\"store_true\",\n",
    "        help=\"Is this a release draft?\"\n",
    "    )\n",
    "    parser.add_argument(\n",
    "        \"-p\",\n",
    "        \"--prerelease\",\n",
    "        action=\"store_true\",\n",
    "        help=\"Is this a prerelease?\"\n",
    "    )    \n",
    "    args = parser.parse_args()\n",
    "    make_gh_release(draft=args.draft, prerelease=args.prerelease)"
   ]
  },
  {
   "cell_type": "code",
   "execution_count": null,
   "metadata": {},
   "outputs": [
    {
     "name": "stdout",
     "output_type": "stream",
     "text": [
      "Converted 00_gh.ipynb.\n",
      "Converted 04_utils.ipynb.\n",
      "Converted index.ipynb.\n"
     ]
    }
   ],
   "source": [
    "#hide\n",
    "from nbdev.export import notebook2script\n",
    "notebook2script()"
   ]
  }
 ],
 "metadata": {
  "kernelspec": {
   "display_name": "Python 3",
   "language": "python",
   "name": "python3"
  }
 },
 "nbformat": 4,
 "nbformat_minor": 2
}

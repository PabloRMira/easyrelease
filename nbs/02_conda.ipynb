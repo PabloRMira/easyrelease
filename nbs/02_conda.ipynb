{
 "cells": [
  {
   "cell_type": "code",
   "execution_count": null,
   "metadata": {},
   "outputs": [],
   "source": [
    "#hide\n",
    "%load_ext autoreload\n",
    "%autoreload 2"
   ]
  },
  {
   "cell_type": "code",
   "execution_count": null,
   "metadata": {},
   "outputs": [],
   "source": [
    "# default_exp conda"
   ]
  },
  {
   "cell_type": "markdown",
   "metadata": {},
   "source": [
    "# conda\n",
    "\n",
    "> Automate conda package building and publishing"
   ]
  },
  {
   "cell_type": "code",
   "execution_count": null,
   "metadata": {},
   "outputs": [],
   "source": [
    "#hide\n",
    "from nbdev.showdoc import *"
   ]
  },
  {
   "cell_type": "code",
   "execution_count": null,
   "metadata": {},
   "outputs": [],
   "source": [
    "#export\n",
    "import os\n",
    "import yaml\n",
    "import subprocess\n",
    "from easyrelease.utils import (\n",
    "    check_project_root,\n",
    "    get_template,\n",
    "    get_config,\n",
    "    get_conda_env_packages,\n",
    "    get_anaconda_credentials\n",
    ")"
   ]
  },
  {
   "cell_type": "code",
   "execution_count": null,
   "metadata": {},
   "outputs": [],
   "source": [
    "#export\n",
    "def read_meta_template():\n",
    "    \"Read meta.yaml template\"\n",
    "    template = get_template(\"meta_template.yaml\")\n",
    "    return yaml.safe_load(template)"
   ]
  },
  {
   "cell_type": "code",
   "execution_count": null,
   "metadata": {},
   "outputs": [],
   "source": [
    "#export\n",
    "@check_project_root\n",
    "def update_meta_yaml():\n",
    "    \"Write / update meta.yaml for conda package building\"\n",
    "    print(\"Updating conda-recipe/meta.yaml\")\n",
    "    cfg = get_config()\n",
    "    meta_yaml = read_meta_template()\n",
    "    build_reqs = get_conda_env_packages()\n",
    "    meta_yaml[\"package\"][\"name\"] = cfg[\"lib_name\"]\n",
    "    meta_yaml[\"package\"][\"version\"] = cfg[\"version\"]\n",
    "    meta_yaml[\"requirements\"][\"build\"] = build_reqs\n",
    "    meta_yaml[\"requirements\"][\"run\"] = [f\"python>={cfg['min_python']}\"] + cfg.get(\"requirements\", \"\").split()\n",
    "    meta_yaml[\"about\"][\"home\"] = cfg[\"git_url\"]\n",
    "    meta_yaml[\"about\"][\"license\"] = cfg[\"license\"]\n",
    "    meta_yaml[\"about\"][\"summary\"] = cfg[\"description\"]\n",
    "    if not os.path.exists(\"conda-recipe\"):\n",
    "        os.mkdir(\"conda-recipe\")\n",
    "    with open(os.path.join(\"conda-recipe\", \"meta.yaml\"), \"w\") as f:\n",
    "        yaml.dump(meta_yaml, f, sort_keys=False)"
   ]
  },
  {
   "cell_type": "code",
   "execution_count": null,
   "metadata": {},
   "outputs": [],
   "source": [
    "#export\n",
    "def build_conda_package():\n",
    "    \"Build conda package\"\n",
    "    ac_user, ac_token = get_anaconda_credentials()\n",
    "    subprocess.run(\n",
    "        [\"conda-build\", \"conda-recipe\", \"--output-folder\", \"./conda-bld\"]\n",
    "#         \"--user\", ac_user, \"--token\", ac_token]\n",
    "    )"
   ]
  },
  {
   "cell_type": "code",
   "execution_count": null,
   "metadata": {},
   "outputs": [
    {
     "name": "stdout",
     "output_type": "stream",
     "text": [
      "Converted 00_gh.ipynb.\n",
      "Converted 02_conda.ipynb.\n",
      "Converted 03_cli.ipynb.\n",
      "Converted 04_utils.ipynb.\n",
      "Converted index.ipynb.\n"
     ]
    }
   ],
   "source": [
    "#hide\n",
    "from nbdev.export import notebook2script\n",
    "notebook2script()"
   ]
  }
 ],
 "metadata": {
  "kernelspec": {
   "display_name": "Python 3",
   "language": "python",
   "name": "python3"
  }
 },
 "nbformat": 4,
 "nbformat_minor": 2
}

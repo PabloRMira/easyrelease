{
 "cells": [
  {
   "cell_type": "code",
   "execution_count": null,
   "metadata": {},
   "outputs": [
    {
     "name": "stdout",
     "output_type": "stream",
     "text": [
      "The autoreload extension is already loaded. To reload it, use:\n",
      "  %reload_ext autoreload\n"
     ]
    }
   ],
   "source": [
    "#hide\n",
    "%load_ext autoreload\n",
    "%autoreload 2"
   ]
  },
  {
   "cell_type": "code",
   "execution_count": null,
   "metadata": {},
   "outputs": [],
   "source": [
    "# default_exp pypi"
   ]
  },
  {
   "cell_type": "markdown",
   "metadata": {},
   "source": [
    "# pypi\n",
    "\n",
    "> Automate pypi package building and publishing"
   ]
  },
  {
   "cell_type": "code",
   "execution_count": null,
   "metadata": {},
   "outputs": [],
   "source": [
    "#hide\n",
    "from nbdev.showdoc import *"
   ]
  },
  {
   "cell_type": "code",
   "execution_count": null,
   "metadata": {},
   "outputs": [],
   "source": [
    "#export\n",
    "import os\n",
    "import shutil\n",
    "import subprocess\n",
    "from easyrelease.utils import check_project_root, get_pypi_credentials, run_tests"
   ]
  },
  {
   "cell_type": "code",
   "execution_count": null,
   "metadata": {},
   "outputs": [],
   "source": [
    "#export\n",
    "@check_project_root\n",
    "def clean_dist():\n",
    "    \"Clean dist/ folder\"\n",
    "    shutil.rmtree(\"dist\", ignore_errors=True)"
   ]
  },
  {
   "cell_type": "code",
   "execution_count": null,
   "metadata": {},
   "outputs": [],
   "source": [
    "#export\n",
    "@check_project_root\n",
    "def build_pypi_package():\n",
    "    \"Build pypi package\"\n",
    "    subprocess.run([\"python\", \"setup.py\", \"sdist\", \"bdist_wheel\"])"
   ]
  },
  {
   "cell_type": "code",
   "execution_count": null,
   "metadata": {},
   "outputs": [],
   "source": [
    "#export\n",
    "@check_project_root\n",
    "def publish_pypi_package():\n",
    "    \"Publish package to pypi via twine\"\n",
    "    username, password = get_pypi_credentials()\n",
    "    subprocess.run(\n",
    "        [\"twine\", \"upload\", \"--repository\", \"pypi\", \"dist/*\", \n",
    "         \"--username\", username, \"--password\", password]\n",
    "    )"
   ]
  },
  {
   "cell_type": "code",
   "execution_count": null,
   "metadata": {},
   "outputs": [],
   "source": [
    "#export\n",
    "@run_tests\n",
    "def build_and_publish_pypi():\n",
    "    \"Build and publish pypi package\"\n",
    "    clean_dist()\n",
    "    build_pypi_package()\n",
    "    publish_pypi_package()"
   ]
  },
  {
   "cell_type": "code",
   "execution_count": null,
   "metadata": {},
   "outputs": [
    {
     "name": "stdout",
     "output_type": "stream",
     "text": [
      "Converted 00_gh.ipynb.\n",
      "Converted 02_conda.ipynb.\n",
      "Converted 03_cli.ipynb.\n",
      "Converted 04_utils.ipynb.\n",
      "Converted index.ipynb.\n"
     ]
    }
   ],
   "source": [
    "#hide\n",
    "from nbdev.export import notebook2script\n",
    "notebook2script()"
   ]
  }
 ],
 "metadata": {
  "kernelspec": {
   "display_name": "Python 3",
   "language": "python",
   "name": "python3"
  }
 },
 "nbformat": 4,
 "nbformat_minor": 2
}

{
 "cells": [
  {
   "cell_type": "code",
   "execution_count": null,
   "metadata": {},
   "outputs": [],
   "source": [
    "# default_exp utils"
   ]
  },
  {
   "cell_type": "markdown",
   "metadata": {},
   "source": [
    "# utils\n",
    "\n",
    "> General helper functions"
   ]
  },
  {
   "cell_type": "code",
   "execution_count": null,
   "metadata": {},
   "outputs": [],
   "source": [
    "#hide\n",
    "from nbdev.showdoc import *"
   ]
  },
  {
   "cell_type": "code",
   "execution_count": null,
   "metadata": {},
   "outputs": [],
   "source": [
    "#export\n",
    "import os\n",
    "import functools\n",
    "import tempfile\n",
    "import pkgutil\n",
    "from configparser import ConfigParser"
   ]
  },
  {
   "cell_type": "code",
   "execution_count": null,
   "metadata": {},
   "outputs": [],
   "source": [
    "#export\n",
    "def check_git_dir():\n",
    "    \"Check whether there is a .git directory in your current folder\"\n",
    "    return bool(os.path.exists(\".git\"))"
   ]
  },
  {
   "cell_type": "code",
   "execution_count": null,
   "metadata": {},
   "outputs": [],
   "source": [
    "#export\n",
    "def check_project_root(func):\n",
    "    \"\"\"Check that the user is on the project root directory by checking if there is a .git folder\n",
    "    before running `func`\n",
    "    \"\"\"\n",
    "    @functools.wraps(func)\n",
    "    def wrapper(*args, **kwargs):\n",
    "        if not check_git_dir:\n",
    "            raise Exception(\"You need to be on your project root to execute this command\")\n",
    "        else:\n",
    "            return func(*args, **kwargs)\n",
    "    return wrapper"
   ]
  },
  {
   "cell_type": "code",
   "execution_count": null,
   "metadata": {},
   "outputs": [],
   "source": [
    "#export\n",
    "@check_project_root\n",
    "def read_credentials(path):\n",
    "    \"Read credentials from `path`\"\n",
    "    config = ConfigParser(delimiters=['='])\n",
    "    with open(path, \"r\") as f:\n",
    "        config.read_string(\"[DEFAULT]\\n\" + f.read())\n",
    "    return config[\"DEFAULT\"]"
   ]
  },
  {
   "cell_type": "code",
   "execution_count": null,
   "metadata": {},
   "outputs": [],
   "source": [
    "if not check_git_dir:\n",
    "    os.chdir(\"..\")  # we need this if we test locally in the notebook itself\n",
    "input_credentials = \"user = SomeUser\\npassword = SomePassword\"\n",
    "expected_credentials = {\"user\": \"SomeUser\", \"password\": \"SomePassword\"}\n",
    "with tempfile.TemporaryDirectory() as tmp_dir:\n",
    "    tmp_file = os.path.join(tmp_dir, \"tmp\")\n",
    "    with open(tmp_file, \"w\") as f:\n",
    "        f.write(input_credentials)\n",
    "    credentials = read_credentials(tmp_file)\n",
    "assert credentials == expected_credentials"
   ]
  },
  {
   "cell_type": "code",
   "execution_count": null,
   "metadata": {},
   "outputs": [],
   "source": [
    "#export\n",
    "def get_config():\n",
    "    \"Get config from settings.ini\"\n",
    "    config = ConfigParser(delimiters=['='])\n",
    "    config.read('settings.ini')\n",
    "    cfg = config['DEFAULT']\n",
    "    return cfg"
   ]
  },
  {
   "cell_type": "code",
   "execution_count": null,
   "metadata": {},
   "outputs": [],
   "source": [
    "#export\n",
    "def get_template(name):\n",
    "    \"Get template with filename `name`\"\n",
    "    template = pkgutil.get_data(__name__, f\"templates/{name}\").decode(\"utf-8\")\n",
    "    return template"
   ]
  },
  {
   "cell_type": "code",
   "execution_count": null,
   "metadata": {},
   "outputs": [
    {
     "name": "stdout",
     "output_type": "stream",
     "text": [
      "Converted 00_gh.ipynb.\n",
      "Converted 04_utils.ipynb.\n",
      "Converted index.ipynb.\n"
     ]
    }
   ],
   "source": [
    "#hide\n",
    "from nbdev.export import notebook2script\n",
    "notebook2script()"
   ]
  }
 ],
 "metadata": {
  "kernelspec": {
   "display_name": "Python 3",
   "language": "python",
   "name": "python3"
  }
 },
 "nbformat": 4,
 "nbformat_minor": 2
}

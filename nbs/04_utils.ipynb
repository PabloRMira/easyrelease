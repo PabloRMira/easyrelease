{
 "cells": [
  {
   "cell_type": "code",
   "execution_count": null,
   "metadata": {},
   "outputs": [],
   "source": [
    "# default_exp utils"
   ]
  },
  {
   "cell_type": "markdown",
   "metadata": {},
   "source": [
    "# utils\n",
    "\n",
    "> General helper functions"
   ]
  },
  {
   "cell_type": "code",
   "execution_count": null,
   "metadata": {},
   "outputs": [],
   "source": [
    "#hide\n",
    "from nbdev.showdoc import *"
   ]
  },
  {
   "cell_type": "code",
   "execution_count": null,
   "metadata": {},
   "outputs": [],
   "source": [
    "#export\n",
    "import os\n",
    "import re\n",
    "import functools\n",
    "import tempfile\n",
    "import pkgutil\n",
    "import subprocess\n",
    "from configparser import ConfigParser"
   ]
  },
  {
   "cell_type": "code",
   "execution_count": null,
   "metadata": {},
   "outputs": [],
   "source": [
    "#export\n",
    "def check_git_dir():\n",
    "    \"Check whether there is a .git directory in your current folder\"\n",
    "    return bool(os.path.exists(\".git\"))"
   ]
  },
  {
   "cell_type": "code",
   "execution_count": null,
   "metadata": {},
   "outputs": [],
   "source": [
    "#export\n",
    "def check_project_root(func):\n",
    "    \"\"\"Check that the user is on the project root directory by checking if there is a .git folder\n",
    "    before running `func`\n",
    "    \"\"\"\n",
    "    @functools.wraps(func)\n",
    "    def wrapper(*args, **kwargs):\n",
    "        if not check_git_dir():\n",
    "            raise Exception(\"You need to be on your project root to execute this command\")\n",
    "        else:\n",
    "            return func(*args, **kwargs)\n",
    "    return wrapper"
   ]
  },
  {
   "cell_type": "code",
   "execution_count": null,
   "metadata": {},
   "outputs": [],
   "source": [
    "#export\n",
    "@check_project_root\n",
    "def read_credentials(path):\n",
    "    \"Read credentials from `path`\"\n",
    "    config = ConfigParser(delimiters=['='])\n",
    "    with open(path, \"r\") as f:\n",
    "        config.read_string(\"[DEFAULT]\\n\" + f.read())\n",
    "    return config[\"DEFAULT\"]"
   ]
  },
  {
   "cell_type": "code",
   "execution_count": null,
   "metadata": {},
   "outputs": [],
   "source": [
    "if not check_git_dir():\n",
    "    os.chdir(\"..\")  # we need this if we test locally in the notebook itself\n",
    "input_credentials = \"user = SomeUser\\npassword = SomePassword\"\n",
    "expected_credentials = {\"user\": \"SomeUser\", \"password\": \"SomePassword\"}\n",
    "with tempfile.TemporaryDirectory() as tmp_dir:\n",
    "    tmp_file = os.path.join(tmp_dir, \"tmp\")\n",
    "    with open(tmp_file, \"w\") as f:\n",
    "        f.write(input_credentials)\n",
    "    credentials = read_credentials(tmp_file)\n",
    "assert credentials == expected_credentials"
   ]
  },
  {
   "cell_type": "code",
   "execution_count": null,
   "metadata": {},
   "outputs": [],
   "source": [
    "#export\n",
    "def get_config():\n",
    "    \"Get config from settings.ini\"\n",
    "    config = ConfigParser(delimiters=['='])\n",
    "    config.read('settings.ini')\n",
    "    cfg = config['DEFAULT']\n",
    "    return cfg"
   ]
  },
  {
   "cell_type": "code",
   "execution_count": null,
   "metadata": {},
   "outputs": [],
   "source": [
    "#export\n",
    "def get_template(name):\n",
    "    \"Get template with filename `name`\"\n",
    "    template = pkgutil.get_data(__name__, f\"templates/{name}\").decode(\"utf-8\")\n",
    "    return template"
   ]
  },
  {
   "cell_type": "code",
   "execution_count": null,
   "metadata": {},
   "outputs": [],
   "source": [
    "#export\n",
    "@check_project_root\n",
    "def update_gitignore():\n",
    "    \"Update .gitignore with stuff we do not want to track\"\n",
    "    print(\"Updating .gitignore\")\n",
    "    add_ignore_files = [\n",
    "        \".gh-credentials\",\n",
    "        \"conda-recipe/*\",\n",
    "        \"conda-bld/*\",\n",
    "        \n",
    "    ]\n",
    "    if os.path.exists(\".gitignore\"):\n",
    "        with open(\".gitignore\", \"r\") as f:\n",
    "            ignore_files = f.read().split(\"\\n\")\n",
    "        for ifile in add_ignore_files:\n",
    "            if ifile not in ignore_files:\n",
    "                ignore_files.append(ifile)\n",
    "        ignore_file = \"\\n\".join(ignore_files)\n",
    "    else:\n",
    "        ignore_file = \"\\n\"\n",
    "    with open(\".gitignore\", \"w\") as f:\n",
    "        f.write(ignore_file)"
   ]
  },
  {
   "cell_type": "code",
   "execution_count": null,
   "metadata": {},
   "outputs": [],
   "source": [
    "#export\n",
    "@check_project_root\n",
    "def write_settings_ini(project_type):\n",
    "    \"Write settings.ini from template\"\n",
    "    print(\"Generating settings.ini\")\n",
    "    if os.path.exists(\"settings.ini\"):\n",
    "        print(\"settings.ini already exists. Skipping this step\")\n",
    "    else:\n",
    "        temp_name = \"settings_template.ini\" if project_type == \"package\" else \"settings_slim_template.ini\"\n",
    "        template = get_template(temp_name)\n",
    "        with open(\"settings.ini\") as f:\n",
    "            f.write(template)"
   ]
  },
  {
   "cell_type": "code",
   "execution_count": null,
   "metadata": {},
   "outputs": [],
   "source": [
    "#export\n",
    "@check_project_root\n",
    "def write_setup_py():\n",
    "    \"Write setup.py from template\"\n",
    "    print(\"Generating setup.py\")\n",
    "    if os.path.exists(\"setup.py\"):\n",
    "        print(\"setup.py already exists. Skipping this step\")\n",
    "    else:\n",
    "        template = get_template(\"setup_template.py\")\n",
    "        with open(\"setup.py\") as f:\n",
    "            f.write(template)"
   ]
  },
  {
   "cell_type": "code",
   "execution_count": null,
   "metadata": {},
   "outputs": [],
   "source": [
    "#export\n",
    "@check_project_root\n",
    "def write_conda_build_scripts():\n",
    "    \"Write bld.bat and build.sh scripts for building conda packages\"\n",
    "    \"Generating bld.bat and build.sh for conda recipe\"\n",
    "    if not os.path.exists(\"conda-recipe\"):\n",
    "        os.mkdir(\"conda-recipe\")\n",
    "    temp_map = {\n",
    "        \"bld.bat\": \"bld_template.bat\",\n",
    "        \"build.sh\": \"build_template.sh\"\n",
    "    }\n",
    "    for file_name, temp_name in temp_map.items():\n",
    "        print(f\"Generating file {file_name}\")\n",
    "        if os.path.exists(os.path.join(\"conda-recipe\", file_name)):\n",
    "            print(f\"{file_name} already exists. Skipping this step\")\n",
    "        else:\n",
    "            template = get_template(temp_name)\n",
    "            with open(os.path.join(\"conda-recipe\", file_name), \"w\") as f:\n",
    "                f.write(template)"
   ]
  },
  {
   "cell_type": "code",
   "execution_count": null,
   "metadata": {},
   "outputs": [],
   "source": [
    "#export\n",
    "def get_conda_env_packages():\n",
    "    \"Get conda environment packages\"\n",
    "    packages = subprocess.run([\"conda\", \"list\", \"--explicit\"], capture_output=True).stdout.decode(\"utf\").splitlines()\n",
    "    packages = [p for p in packages if not re.match(r\"^(?:#|@)\", p) and not re.search(\"dev\", p.split(\"=\")[-1])]\n",
    "    return packages"
   ]
  },
  {
   "cell_type": "code",
   "execution_count": null,
   "metadata": {},
   "outputs": [],
   "source": [
    "#export\n",
    "@check_project_root\n",
    "def get_anaconda_credentials():\n",
    "    \"Get anaconda credentials from .anacondarc in your home directory\"\n",
    "    ana_file = \".anaconda-credentials\"\n",
    "    user_root = os.path.expanduser(\"~\")\n",
    "    if os.path.exists(ana_file):\n",
    "        cfg = read_credentials(ana_file)\n",
    "    elif os.path.exists(os.path.join(user_root, ana_file)):\n",
    "        cfg = read_credentials(os.path.join(user_root, ana_file))\n",
    "    else:\n",
    "        raise Exception(\n",
    "            \"No .anaconda-credentials file found. \" \n",
    "            \"Please save your anaconda credentials \"\n",
    "            \"either in this project's root directory or under your home directory\"\n",
    "        )\n",
    "    return (cfg[\"username\"], cfg[\"password\"])"
   ]
  },
  {
   "cell_type": "code",
   "execution_count": null,
   "metadata": {},
   "outputs": [],
   "source": [
    "#export\n",
    "def write_init_version():\n",
    "    \"Write __version__ in __init__.py if it is a package\"\n",
    "    cfg = get_config()\n",
    "    if \"lib_name\" in cfg:\n",
    "        package_name = cfg[\"lib_name\"]\n",
    "        version = cfg[\"version\"]\n",
    "        if os.path.exists(package_name):\n",
    "            init_path = os.path.join(package_name, \"__init__.py\")\n",
    "            if not os.path.exists(init_path):\n",
    "                print(\"No __init__.py file found. Generating it\")\n",
    "                with open(init_path, \"w\") as f:\n",
    "                    f.write(f'__version__ = \"{version}\"')\n",
    "            else:\n",
    "                with open(init_path, \"r\") as f:\n",
    "                    init_lines = f.readlines()\n",
    "                has_version = max([True if \"__version__\" in line else False for line in init_lines])\n",
    "                if has_version:\n",
    "                    print(\"Updating __version__ in __ini__.py\")\n",
    "                    update_init_lines = [\n",
    "                        re.sub(r'__version__ = \".*\"', f'__version__ = \"{version}\"', line)\n",
    "                        for line in init_lines\n",
    "                    ]\n",
    "                else:\n",
    "                    update_init_lines += [f'\\n__version__ = \"version\"']\n",
    "                update_init = \"\".join(update_init_lines)\n",
    "                with open(init_path, \"w\") as f:\n",
    "                    f.write(update_init)"
   ]
  },
  {
   "cell_type": "code",
   "execution_count": null,
   "metadata": {},
   "outputs": [
    {
     "name": "stdout",
     "output_type": "stream",
     "text": [
      "Converted 00_gh.ipynb.\n",
      "Converted 02_conda.ipynb.\n",
      "Converted 03_cli.ipynb.\n",
      "Converted 04_utils.ipynb.\n",
      "Converted index.ipynb.\n"
     ]
    }
   ],
   "source": [
    "#hide\n",
    "from nbdev.export import notebook2script\n",
    "notebook2script()"
   ]
  }
 ],
 "metadata": {
  "kernelspec": {
   "display_name": "Python 3",
   "language": "python",
   "name": "python3"
  }
 },
 "nbformat": 4,
 "nbformat_minor": 2
}
